{
 "cells": [
  {
   "cell_type": "code",
   "execution_count": 1,
   "metadata": {},
   "outputs": [],
   "source": [
    "# Load Dependencies\n",
    "import os\n",
    "import pandas as pd\n",
    "import numpy as np\n",
    "import itertools\n",
    "from IPython.display import Markdown\n",
    "from IPython.display import display\n",
    "from ipywidgets import IntProgress\n",
    "import time\n",
    "\n",
    "\n",
    "DEBUG = False\n",
    "\n",
    "# Load Data\n",
    "df = pd.read_csv('data/dummied.csv.gz', compression='gzip')\n",
    "\n",
    "# Select columns for feature engineering\n",
    "exclude = ['account_id', 'is_current_customer', 'is_self_service', 'country', 'state', 'country_top', 'state_top', 'industry_grouped', 'company_revenue_bucket', 'dnb_founded_time_grouped']\n",
    "\n",
    "df['account_id'] = df['account_id'].astype('object')\n",
    "\n",
    "float64_columns = df.select_dtypes(include='float64').columns\n",
    "df[float64_columns] = df[float64_columns].astype('int')\n",
    "\n"
   ]
  },
  {
   "cell_type": "code",
   "execution_count": 2,
   "metadata": {},
   "outputs": [],
   "source": [
    "if DEBUG:\n",
    "    df.info()\n",
    "    df.head()\n",
    "    # Count all the things\n",
    "    display(Markdown(\"# Boolean (bool)\"))\n",
    "    display(df.select_dtypes(include=['bool']).apply(pd.Series.value_counts, dropna=False))\n",
    "\n",
    "    display(Markdown(\"# Boolean with Missing (int64)\"))\n",
    "    display(df.select_dtypes(include=['int64']).apply(pd.Series.value_counts, dropna=False))\n",
    "\n",
    "    display(Markdown(\"# Categories (object)\"))\n",
    "    for col in df.select_dtypes(include=['object']).columns:\n",
    "        display(df[col].value_counts(dropna=False).to_frame())"
   ]
  },
  {
   "cell_type": "code",
   "execution_count": 3,
   "metadata": {},
   "outputs": [
    {
     "data": {
      "text/plain": [
       "145"
      ]
     },
     "metadata": {},
     "output_type": "display_data"
    },
    {
     "data": {
      "text/plain": [
       "10440"
      ]
     },
     "metadata": {},
     "output_type": "display_data"
    }
   ],
   "source": [
    "int64_columns = df.select_dtypes(include='int64').columns\n",
    "\n",
    "# Remove 'is_self_service' and 'is_arr_over_12k'\n",
    "int64_columns = int64_columns.drop(['is_self_service', 'is_arr_over_12k'])\n",
    "\n",
    "display(len(int64_columns))\n",
    "display(len(list(itertools.combinations(int64_columns, 2))))\n",
    "\n",
    "if DEBUG:\n",
    "    int64_columns.to_frame().to_csv('data/int64_columns.csv', index=False)"
   ]
  },
  {
   "cell_type": "code",
   "execution_count": 4,
   "metadata": {},
   "outputs": [
    {
     "data": {
      "application/vnd.jupyter.widget-view+json": {
       "model_id": "dc509ca95eab424ca135ed7373b2c1a1",
       "version_major": 2,
       "version_minor": 0
      },
      "text/plain": [
       "IntProgress(value=0, max=10440)"
      ]
     },
     "metadata": {},
     "output_type": "display_data"
    }
   ],
   "source": [
    "\n",
    "count = 0\n",
    "max_count = len(list(itertools.combinations(int64_columns, 2)))\n",
    "\n",
    "f = IntProgress(min=0, max=max_count) # instantiate the bar\n",
    "display(f) # display the bar\n",
    "\n",
    "new_columns = []\n",
    "\n",
    "for col1, col2 in itertools.combinations(int64_columns, 2):\n",
    "    new_columns.append(pd.DataFrame({\n",
    "        f'{col1}_plus_{col2}': df[col1] + df[col2],\n",
    "        f'{col1}_max_{col2}': df[[col1, col2]].max(axis=1)\n",
    "    }))\n",
    "    f.value += 1 \n",
    "\n",
    "# df = pd.concat([df] + new_columns, axis=1)\n"
   ]
  },
  {
   "cell_type": "code",
   "execution_count": 5,
   "metadata": {},
   "outputs": [],
   "source": [
    "# Correlate new columns with `is_arr_over_12k`\n",
    "correlations = pd.Series(index=df.columns)\n",
    "for col in new_columns:\n",
    "    correlations[col.columns[0]] = df['is_arr_over_12k'].corr(col[col.columns[0]])\n",
    "\n",
    "# Sort correlations\n",
    "top100 = correlations.sort_values(ascending=False).index.tolist()[:100]\n",
    "\n"
   ]
  },
  {
   "cell_type": "code",
   "execution_count": 6,
   "metadata": {},
   "outputs": [],
   "source": [
    "# Concatenate top 100 new columns to dataframe\n",
    "filtered_columns = [col for col in new_columns if col.columns[0] in top100]\n",
    "\n",
    "df = pd.concat([df] + filtered_columns, axis=1)"
   ]
  },
  {
   "cell_type": "code",
   "execution_count": 7,
   "metadata": {},
   "outputs": [
    {
     "name": "stdout",
     "output_type": "stream",
     "text": [
      "<class 'pandas.core.frame.DataFrame'>\n",
      "RangeIndex: 509599 entries, 0 to 509598\n",
      "Columns: 400 entries, account_id to crossbeam_product23_customer_max_hg_product_129\n",
      "dtypes: bool(45), int64(347), object(8)\n",
      "memory usage: 1.4+ GB\n"
     ]
    }
   ],
   "source": [
    "df.info()"
   ]
  },
  {
   "cell_type": "code",
   "execution_count": 8,
   "metadata": {},
   "outputs": [],
   "source": [
    "# Save!\n",
    "df.to_csv('data/feature_engineered.csv.gz', compression='gzip', index=False)"
   ]
  },
  {
   "cell_type": "code",
   "execution_count": null,
   "metadata": {},
   "outputs": [],
   "source": []
  },
  {
   "cell_type": "code",
   "execution_count": null,
   "metadata": {},
   "outputs": [],
   "source": []
  }
 ],
 "metadata": {
  "kernelspec": {
   "display_name": ".venv",
   "language": "python",
   "name": "python3"
  },
  "language_info": {
   "codemirror_mode": {
    "name": "ipython",
    "version": 3
   },
   "file_extension": ".py",
   "mimetype": "text/x-python",
   "name": "python",
   "nbconvert_exporter": "python",
   "pygments_lexer": "ipython3",
   "version": "3.11.6"
  }
 },
 "nbformat": 4,
 "nbformat_minor": 2
}
