{
 "cells": [
  {
   "cell_type": "code",
   "execution_count": null,
   "metadata": {},
   "outputs": [],
   "source": [
    "# Load Dependencies\n",
    "from IPython.display import Markdown\n",
    "import os\n",
    "import pandas as pd\n",
    "from ydata_profiling import ProfileReport\n",
    "\n",
    "# Load Data\n",
    "# CSV is fine. Could use parquet or feather for faster load, but this is too small to matter\n",
    "if not os.path.exists('data/data_raw.csv.gz'):\n",
    "    df = pd.read_excel('data/territory_model_2_for_candidate.xlsb', engine='pyxlsb', sheet_name='data')\n",
    "    df.to_csv('data/data_raw.csv.gz', index=False, compression='gzip')\n",
    "else:\n",
    "    df = pd.read_csv('data/data_raw.csv.gz', compression='gzip')\n",
    "\n",
    "df.info()\n",
    "df.head()"
   ]
  },
  {
   "cell_type": "code",
   "execution_count": null,
   "metadata": {},
   "outputs": [],
   "source": [
    "# This is kind of useless since the columns are all non-numerical, but it's a good habit\n",
    "df.describe()"
   ]
  },
  {
   "cell_type": "code",
   "execution_count": null,
   "metadata": {},
   "outputs": [],
   "source": [
    "# Count all the things\n",
    "display(Markdown(\"# Boolean (bool)\"))\n",
    "display(df.select_dtypes(include=['bool']).apply(pd.Series.value_counts, dropna=False))\n",
    "\n",
    "display(Markdown(\"# Boolean with Missing (float64)\"))\n",
    "display(df.select_dtypes(include=['float64']).apply(pd.Series.value_counts, dropna=False))\n",
    "\n",
    "display(Markdown(\"# Categories (object)\"))\n",
    "for col in df.select_dtypes(include=['object']).columns:\n",
    "    display(df[col].value_counts(dropna=False).to_frame())"
   ]
  },
  {
   "cell_type": "code",
   "execution_count": null,
   "metadata": {},
   "outputs": [],
   "source": [
    "# ydata-profiling of df\n",
    "if not os.path.exists('profile/ydata_raw.html'):\n",
    "    profile = ProfileReport(df, title='Pandas Profiling Report', explorative=True)\n",
    "    profile.to_file(\"profile/ydata_raw.html\")\n",
    "\n",
    "# ydata-profiling of df with is_current_customer = True and False\n",
    "if not os.path.exists('profile/ydata_is_customer.html'):\n",
    "    profile = ProfileReport(df[df['is_current_customer'] == True], title='Current Customer', explorative=True)\n",
    "    profile.to_file(\"profile/ydata_is_customer.html\")\n",
    "if not os.path.exists('profile/ydata_not_customer.html'):\n",
    "    profile = ProfileReport(df[df['is_current_customer'] == False], title='NOT Current Customer', explorative=True)\n",
    "    profile.to_file(\"profile/ydata_not_customer.html\")\n",
    "\n",
    "# ydata-profiling of df with is_arr_over_12k = True and False\n",
    "if not os.path.exists('profile/ydata_arr_over_12k.html'):\n",
    "    profile = ProfileReport(df[df['is_arr_over_12k'] == True], title='ARR over $12k', explorative=True)\n",
    "    profile.to_file(\"profile/ydata_arr_over_12k.html\")\n",
    "if not os.path.exists('profile/ydata_arr_under_12k.html'):\n",
    "    profile = ProfileReport(df[df['is_arr_over_12k'] == False], title='ARR under $12k', explorative=True)\n",
    "    profile.to_file(\"profile/ydata_arr_under_12k.html\")\n"
   ]
  },
  {
   "cell_type": "code",
   "execution_count": null,
   "metadata": {},
   "outputs": [],
   "source": []
  },
  {
   "cell_type": "code",
   "execution_count": null,
   "metadata": {},
   "outputs": [],
   "source": []
  }
 ],
 "metadata": {
  "kernelspec": {
   "display_name": "Python 3 (ipykernel)",
   "language": "python",
   "name": "python3"
  },
  "language_info": {
   "codemirror_mode": {
    "name": "ipython",
    "version": 3
   },
   "file_extension": ".py",
   "mimetype": "text/x-python",
   "name": "python",
   "nbconvert_exporter": "python",
   "pygments_lexer": "ipython3",
   "version": "3.11.6"
  }
 },
 "nbformat": 4,
 "nbformat_minor": 2
}
