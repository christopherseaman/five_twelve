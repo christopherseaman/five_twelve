{
 "cells": [
  {
   "cell_type": "code",
   "execution_count": null,
   "metadata": {},
   "outputs": [],
   "source": [
    "# Load Dependencies\n",
    "import os\n",
    "import pandas as pd\n",
    "import numpy as np\n",
    "from ydata_profiling import ProfileReport\n",
    "from IPython.display import Markdown\n",
    "import featuretools as ft\n",
    "\n",
    "pd.set_option('display.max_rows', None)\n",
    "\n",
    "# Load Data\n",
    "df = pd.read_csv('data/data_raw.csv.gz', compression='gzip')"
   ]
  },
  {
   "cell_type": "code",
   "execution_count": null,
   "metadata": {},
   "outputs": [],
   "source": [
    "# Create a new column for modified country values\n",
    "df['country_top'] = df['country']\n",
    "df['state_top'] = df['state']\n",
    "\n",
    "# Replace missing values with 'Missing'\n",
    "df.loc[df['country_top'].isna(), 'country_top'] = 'Missing'\n",
    "df.loc[df['state_top'].isna(), 'state_top'] = 'Missing'\n",
    "\n",
    "# Get top 10 states and countries\n",
    "top_countries = df['country_top'].value_counts().nlargest(10).index\n",
    "top_states = df['state_top'].value_counts().nlargest(10).index\n",
    "\n",
    "# Replace countries not in the top 10 with 'Other'\n",
    "df.loc[~df['country_top'].isin(top_countries), 'country_top'] = 'Other'\n",
    "df.loc[~df['state_top'].isin(top_states), 'state_top'] = 'Other'\n",
    "\n",
    "# Dummy variables for top countries and missing\n",
    "df = pd.concat([df, pd.get_dummies(df['country_top'], prefix='country_top')], axis=1)\n",
    "df = pd.concat([df, pd.get_dummies(df['state_top'], prefix='state_top')], axis=1)\n",
    "\n",
    "# Filter columns that contain 'country_top' or 'state_top'\n",
    "dummies = df.filter(like='country_top_').columns.union(df.filter(like='state_top_').columns)\n",
    "\n",
    "# Dummy variables for industry, revenue, and founded time\n",
    "df = pd.concat([df, pd.get_dummies(df['industry_grouped'].astype('str').replace({'NaN': 'Missing'}), prefix='industry')], axis=1)\n",
    "dummies = dummies.union(df.filter(like='industry_').columns)\n",
    "df = pd.concat([df, pd.get_dummies(df['company_revenue_bucket'].astype('str').replace({'NaN': 'Missing'}), prefix='revenue')], axis=1)\n",
    "dummies = dummies.union(df.filter(like='revenue_').columns)\n",
    "df = pd.concat([df, pd.get_dummies(df['dnb_founded_time_grouped'].astype('str').replace({'NaN': 'Missing'}), prefix='founded')], axis=1)\n",
    "dummies = dummies.union(df.filter(like='founded_').columns)\n",
    "\n",
    "# Recode True/False/Nan to 1/-1/0 for \"boolean\" variables to treat missing as its own category\n",
    "for col in df.select_dtypes(include=['float64']).columns:\n",
    "    df[col] = df[col].replace({1: 1, 0: -1, np.nan: 0})\n",
    "\n",
    "# Display dummy column counts\n",
    "display(df[dummies].nunique().to_frame().T)\n",
    "\n",
    "# Write out data\n",
    "df.to_csv('data/dummied.csv.gz', compression='gzip', index=False)\n"
   ]
  },
  {
   "cell_type": "code",
   "execution_count": null,
   "metadata": {},
   "outputs": [],
   "source": [
    "df.info()"
   ]
  },
  {
   "cell_type": "code",
   "execution_count": null,
   "metadata": {},
   "outputs": [],
   "source": [
    "# ydata-profiling of df\n",
    "if not os.path.exists('profile/ydata_tx.html'):\n",
    "    profile = ProfileReport(df, title='Pandas Profiling Report', explorative=True)\n",
    "    profile.to_file(\"profile/ydata_tx.html\")\n",
    "\n",
    "# ydata-profiling of df with is_current_customer = True and False\n",
    "if not os.path.exists('profile/ydata_is_customer.html'):\n",
    "    profile = ProfileReport(df[df['is_current_customer'] == True], title='Current Customer', explorative=True)\n",
    "    profile.to_file(\"profile/ydata_is_customer.html\")\n",
    "if not os.path.exists('profile/ydata_not_customer.html'):\n",
    "    profile = ProfileReport(df[df['is_current_customer'] == False], title='NOT Current Customer', explorative=True)\n",
    "    profile.to_file(\"profile/ydata_not_customer.html\")\n",
    "\n",
    "# ydata-profiling of df with is_arr_over_12k = True and False\n",
    "if not os.path.exists('profile/ydata_arr_over_12k.html'):\n",
    "    profile = ProfileReport(df[df['is_arr_over_12k'] == True], title='ARR over $12k', explorative=True)\n",
    "    profile.to_file(\"profile/ydata_arr_over_12k.html\")\n",
    "if not os.path.exists('profile/ydata_arr_under_12k.html'):\n",
    "    profile = ProfileReport(df[df['is_arr_over_12k'] == False], title='ARR under $12k', explorative=True)\n",
    "    profile.to_file(\"profile/ydata_arr_under_12k.html\")\n"
   ]
  },
  {
   "cell_type": "code",
   "execution_count": null,
   "metadata": {},
   "outputs": [],
   "source": [
    "# Select columns for feature engineering\n",
    "exclude = ['is_current_customer', 'is_self_service', 'is_arr_over_12k', 'country', 'state', 'country_top', 'state_top', 'industry_grouped', 'company_revenue_bucket', 'dnb_founded_time_grouped']\n",
    "selected = df.drop(columns=exclude)\n",
    "\n",
    "customers = df[df['is_current_customer'] == True]\n",
    "correlations = customers.corr(numeric_only=True)['is_arr_over_12k'].abs().sort_values(ascending=False)\n",
    "\n",
    "# # Display correlation matrix\n",
    "display(correlations[correlations > 0.08].to_frame().T)\n",
    "correlations.to_csv('data/correlations.csv')\n"
   ]
  },
  {
   "cell_type": "code",
   "execution_count": null,
   "metadata": {},
   "outputs": [],
   "source": []
  }
 ],
 "metadata": {
  "kernelspec": {
   "display_name": ".venv",
   "language": "python",
   "name": "python3"
  },
  "language_info": {
   "codemirror_mode": {
    "name": "ipython",
    "version": 3
   },
   "file_extension": ".py",
   "mimetype": "text/x-python",
   "name": "python",
   "nbconvert_exporter": "python",
   "pygments_lexer": "ipython3",
   "version": "3.11.6"
  }
 },
 "nbformat": 4,
 "nbformat_minor": 2
}
